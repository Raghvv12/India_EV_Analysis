{
  "nbformat": 4,
  "nbformat_minor": 0,
  "metadata": {
    "colab": {
      "provenance": [],
      "authorship_tag": "ABX9TyPTlFVcIwmSW57DtXfD3CwD",
      "include_colab_link": true
    },
    "kernelspec": {
      "name": "python3",
      "display_name": "Python 3"
    },
    "language_info": {
      "name": "python"
    }
  },
  "cells": [
    {
      "cell_type": "markdown",
      "metadata": {
        "id": "view-in-github",
        "colab_type": "text"
      },
      "source": [
        "<a href=\"https://colab.research.google.com/github/Raghvv12/India_EV_Analysis/blob/main/AtliQ_Motors_India_EV_Analysis.ipynb\" target=\"_parent\"><img src=\"https://colab.research.google.com/assets/colab-badge.svg\" alt=\"Open In Colab\"/></a>"
      ]
    },
    {
      "cell_type": "markdown",
      "source": [
        "## **AtliQ_Motors_India_EV_Analysis**\n",
        "\n",
        "#### **Objective:**\n",
        "\n",
        "The objective of this project is to conduct a **comprehensive analysis of the Indian Electric Vehicle (EV) and Hybrid market** to support **AtliQ Motors’ strategic expansion** into India. Despite holding a strong 25% market share in North America, AtliQ Motors currently has less than 2% in India. This study aims to uncover **market opportunities, growth potential, and regional performance patterns** to guide the company’s entry and scaling strategy in India’s EV ecosystem.\n",
        "\n",
        "\n",
        "\n",
        "The final deliverable will combine **quantitative insights** with **interactive visualizations** to support AtliQ Motors’ leadership in making informed strategic decisions about the Indian EV market."
      ],
      "metadata": {
        "id": "5MLiADBZAn5n"
      }
    },
    {
      "cell_type": "code",
      "execution_count": 1,
      "metadata": {
        "id": "KjbRwT1b5ZeR"
      },
      "outputs": [],
      "source": [
        "import pandas as pd"
      ]
    },
    {
      "cell_type": "markdown",
      "source": [
        "## **Loading the Data**"
      ],
      "metadata": {
        "id": "NmANZ13L6KmG"
      }
    },
    {
      "cell_type": "code",
      "source": [
        "dim_date = pd.read_csv(\"/content/dim_date.csv\")\n",
        "sales_makers = pd.read_csv(\"/content/sales_by_makers.csv\")\n",
        "sales_state = pd.read_csv(\"/content/sales_by_state.csv\")"
      ],
      "metadata": {
        "id": "xSepvsEE5jUW"
      },
      "execution_count": 8,
      "outputs": []
    },
    {
      "cell_type": "markdown",
      "source": [
        "### **Exploring the data**"
      ],
      "metadata": {
        "id": "vqJYsmyl6Oqu"
      }
    },
    {
      "cell_type": "code",
      "source": [
        "print(\"Sales by Makers:\")\n",
        "print(sales_makers.info())\n",
        "print(sales_makers.head())"
      ],
      "metadata": {
        "colab": {
          "base_uri": "https://localhost:8080/"
        },
        "id": "3IxIdCTz523t",
        "outputId": "39b7a7b7-039c-40d1-eb3f-d97d42515981"
      },
      "execution_count": 20,
      "outputs": [
        {
          "output_type": "stream",
          "name": "stdout",
          "text": [
            "Sales by Makers:\n",
            "<class 'pandas.core.frame.DataFrame'>\n",
            "RangeIndex: 816 entries, 0 to 815\n",
            "Data columns (total 4 columns):\n",
            " #   Column                  Non-Null Count  Dtype  \n",
            "---  ------                  --------------  -----  \n",
            " 0   date                    816 non-null    object \n",
            " 1   vehicle_category        816 non-null    object \n",
            " 2   maker                   816 non-null    object \n",
            " 3   electric_vehicles_sold  816 non-null    float64\n",
            "dtypes: float64(1), object(3)\n",
            "memory usage: 25.6+ KB\n",
            "None\n",
            "        date vehicle_category         maker  electric_vehicles_sold\n",
            "0  01-Apr-21       2-Wheelers  OLA ELECTRIC                     0.0\n",
            "1  01-Apr-22       2-Wheelers      OKAYA EV                     0.0\n",
            "2  01-May-21       2-Wheelers  OLA ELECTRIC                     0.0\n",
            "3  01-Jun-21       2-Wheelers  OLA ELECTRIC                     0.0\n",
            "4  01-Jul-21       2-Wheelers  OLA ELECTRIC                     0.0\n"
          ]
        }
      ]
    },
    {
      "cell_type": "code",
      "source": [
        "print(\"Sales by State:\")\n",
        "print(sales_state.info())\n",
        "print(sales_state.head())\n"
      ],
      "metadata": {
        "colab": {
          "base_uri": "https://localhost:8080/"
        },
        "id": "FQb8eu4r7CQp",
        "outputId": "2c0c612f-5e67-47e2-89f9-7ab97d409c10"
      },
      "execution_count": 21,
      "outputs": [
        {
          "output_type": "stream",
          "name": "stdout",
          "text": [
            "Sales by State:\n",
            "<class 'pandas.core.frame.DataFrame'>\n",
            "RangeIndex: 2445 entries, 0 to 2444\n",
            "Data columns (total 5 columns):\n",
            " #   Column                  Non-Null Count  Dtype \n",
            "---  ------                  --------------  ----- \n",
            " 0   date                    2445 non-null   object\n",
            " 1   state                   2445 non-null   object\n",
            " 2   vehicle_category        2445 non-null   object\n",
            " 3   electric_vehicles_sold  2445 non-null   int64 \n",
            " 4   total_vehicles_sold     2445 non-null   int64 \n",
            "dtypes: int64(2), object(3)\n",
            "memory usage: 95.6+ KB\n",
            "None\n",
            "        date   state vehicle_category  electric_vehicles_sold  \\\n",
            "0  01-Apr-21  Sikkim       2-Wheelers                       0   \n",
            "1  01-Apr-21  Sikkim       4-Wheelers                       0   \n",
            "2  01-May-21  Sikkim       2-Wheelers                       0   \n",
            "3  01-May-21  Sikkim       4-Wheelers                       0   \n",
            "4  01-Jun-21  Sikkim       2-Wheelers                       0   \n",
            "\n",
            "   total_vehicles_sold  \n",
            "0                  398  \n",
            "1                  361  \n",
            "2                  113  \n",
            "3                   98  \n",
            "4                  229  \n"
          ]
        }
      ]
    },
    {
      "cell_type": "code",
      "source": [
        "print(\"Date Dimension:\")\n",
        "print(dim_date.info())\n",
        "print(dim_date.head())"
      ],
      "metadata": {
        "colab": {
          "base_uri": "https://localhost:8080/"
        },
        "id": "69LNLAWJ8VpH",
        "outputId": "a90e5859-8e87-459c-bab5-97d11593f1ac"
      },
      "execution_count": 23,
      "outputs": [
        {
          "output_type": "stream",
          "name": "stdout",
          "text": [
            "Date Dimension:\n",
            "<class 'pandas.core.frame.DataFrame'>\n",
            "RangeIndex: 36 entries, 0 to 35\n",
            "Data columns (total 3 columns):\n",
            " #   Column       Non-Null Count  Dtype \n",
            "---  ------       --------------  ----- \n",
            " 0   date         36 non-null     object\n",
            " 1   fiscal_year  36 non-null     int64 \n",
            " 2   quarter      36 non-null     object\n",
            "dtypes: int64(1), object(2)\n",
            "memory usage: 996.0+ bytes\n",
            "None\n",
            "        date  fiscal_year quarter\n",
            "0  01-Apr-21         2022      Q1\n",
            "1  01-May-21         2022      Q1\n",
            "2  01-Jun-21         2022      Q1\n",
            "3  01-Jul-21         2022      Q2\n",
            "4  01-Aug-21         2022      Q2\n"
          ]
        }
      ]
    },
    {
      "cell_type": "code",
      "source": [
        "print(sales_makers.isnull().sum())\n",
        "print(sales_state.isnull().sum())\n",
        "print(dim_date.isnull().sum())"
      ],
      "metadata": {
        "colab": {
          "base_uri": "https://localhost:8080/"
        },
        "id": "LxD5ou2m8ZIr",
        "outputId": "baef3491-fa77-4229-c217-4df928d3817f"
      },
      "execution_count": 25,
      "outputs": [
        {
          "output_type": "stream",
          "name": "stdout",
          "text": [
            "date                      0\n",
            "vehicle_category          0\n",
            "maker                     0\n",
            "electric_vehicles_sold    0\n",
            "dtype: int64\n",
            "date                      0\n",
            "state                     0\n",
            "vehicle_category          0\n",
            "electric_vehicles_sold    0\n",
            "total_vehicles_sold       0\n",
            "dtype: int64\n",
            "date           0\n",
            "fiscal_year    0\n",
            "quarter        0\n",
            "dtype: int64\n"
          ]
        }
      ]
    },
    {
      "cell_type": "code",
      "source": [
        "sales_makers = pd.merge(sales_makers, dim_date, on='date', how='left')\n",
        "sales_state = pd.merge(sales_state, dim_date, on='date', how='left')"
      ],
      "metadata": {
        "id": "3awyMxD19LSJ"
      },
      "execution_count": 26,
      "outputs": []
    },
    {
      "cell_type": "markdown",
      "source": [
        "**Now both tables will have `fiscal_year` and `quarter` columns, after Merging `dim_date` with both `sales_makers` and `sales_state`**"
      ],
      "metadata": {
        "id": "ibVZgvsO-Dja"
      }
    },
    {
      "cell_type": "markdown",
      "source": [
        "### **Feature Engineering for Analysis**"
      ],
      "metadata": {
        "id": "J95VoUOp-2bF"
      }
    },
    {
      "cell_type": "code",
      "source": [
        "# EV Penetration Rate at State Level\n",
        "sales_state['ev_penetration_rate'] = (sales_state['electric_vehicles_sold'] / sales_state['total_vehicles_sold']) * 100\n",
        "\n",
        "# Aggregating by Year and Maker\n",
        "maker_yearly = sales_makers.groupby(['fiscal_year', 'vehicle_category', 'maker'], as_index=False)['electric_vehicles_sold'].sum()\n",
        "\n",
        "# Aggregating by Year and State\n",
        "state_yearly = sales_state.groupby(['fiscal_year', 'state', 'vehicle_category'], as_index=False).agg({\n",
        "    'electric_vehicles_sold': 'sum',\n",
        "    'total_vehicles_sold': 'sum',\n",
        "    'ev_penetration_rate': 'mean'\n",
        "})"
      ],
      "metadata": {
        "id": "dMCSklWc9QFK"
      },
      "execution_count": 27,
      "outputs": []
    },
    {
      "cell_type": "markdown",
      "source": [
        "### **Identifing Top & Bottom Performers**"
      ],
      "metadata": {
        "id": "L5S4VWZR-vSO"
      }
    },
    {
      "cell_type": "code",
      "source": [
        "# Top 3 & Bottom 3 Makers for FY 2024 (2-Wheelers)\n",
        "top_bottom_makers_2024 = maker_yearly.query('fiscal_year == 2024 and vehicle_category == \"2-Wheelers\"')\n",
        "top_3 = top_bottom_makers_2024.nlargest(3, 'electric_vehicles_sold')\n",
        "bottom_3 = top_bottom_makers_2024.nsmallest(3, 'electric_vehicles_sold')\n",
        "\n",
        "# Top 5 States by Penetration (2W and 4W)\n",
        "top5_states_2w = state_yearly.query('fiscal_year == 2024 and vehicle_category == \"2-Wheelers\"').nlargest(5, 'ev_penetration_rate')\n",
        "top5_states_4w = state_yearly.query('fiscal_year == 2024 and vehicle_category == \"4-Wheelers\"').nlargest(5, 'ev_penetration_rate')"
      ],
      "metadata": {
        "id": "xQvQ30oX-Z8_"
      },
      "execution_count": 28,
      "outputs": []
    },
    {
      "cell_type": "markdown",
      "source": [
        "### **Quarterly Trends**"
      ],
      "metadata": {
        "id": "MzLDTiH4-rXt"
      }
    },
    {
      "cell_type": "code",
      "source": [
        "quarterly_trends = sales_makers.groupby(['fiscal_year', 'quarter', 'maker', 'vehicle_category'], as_index=False)['electric_vehicles_sold'].sum()"
      ],
      "metadata": {
        "id": "A7w1UCvC-hl3"
      },
      "execution_count": 29,
      "outputs": []
    },
    {
      "cell_type": "markdown",
      "source": [
        "### **State-wise CAGR Calculation (2022–2024)**"
      ],
      "metadata": {
        "id": "e7y-lP4m-ojC"
      }
    },
    {
      "cell_type": "code",
      "source": [],
      "metadata": {
        "id": "3X0-mGnA-jy3"
      },
      "execution_count": 30,
      "outputs": []
    },
    {
      "cell_type": "markdown",
      "source": [
        "### **Exporting Cleaned and Aggregated CSV**"
      ],
      "metadata": {
        "id": "qoYbh6db-8y6"
      }
    },
    {
      "cell_type": "code",
      "source": [
        "sales_makers.to_csv('cleaned_sales_maker.csv', index=False)\n",
        "sales_state.to_csv('cleaned_sales_state.csv', index=False)\n",
        "state_cagr.to_csv('cleaned_cagr.csv', index=False)"
      ],
      "metadata": {
        "id": "7xHfZII_-m1c"
      },
      "execution_count": 34,
      "outputs": []
    },
    {
      "cell_type": "code",
      "source": [],
      "metadata": {
        "id": "mqMqW3pO_FTD"
      },
      "execution_count": null,
      "outputs": []
    }
  ]
}